{
  "nbformat": 4,
  "nbformat_minor": 0,
  "metadata": {
    "colab": {
      "provenance": []
    },
    "kernelspec": {
      "name": "python3",
      "display_name": "Python 3"
    },
    "language_info": {
      "name": "python"
    }
  },
  "cells": [
    {
      "cell_type": "markdown",
      "source": [
        "**House Price Prediction using Simple Neural Network:**\n",
        "\n",
        "The Boston Housing dataset is loaded using keras.datasets.boston_housing.load_data() function. The dataset is split into training and testing sets, and the input features are standardized using mean and standard deviation values calculated from the training set.\n",
        "\n",
        "A neural network is defined using the Keras Sequential model. It consists of two hidden layers with 64 neurons each and an output layer with a single neuron.\n",
        "\n",
        "The model is compiled using the Adam optimizer and the mean squared error loss function.\n",
        "\n",
        "The model is trained using the training set and validated using a validation split of 0.2. The training is done for 100 epochs with a batch size of 32.\n",
        "\n",
        "The performance of the model is evaluated using the testing set, and the mean squared error and mean absolute error are printed.\n",
        "\n",
        "Finally, the model is used to make predictions on the testing se"
      ],
      "metadata": {
        "id": "ANAwWCiioZcl"
      }
    },
    {
      "cell_type": "code",
      "execution_count": 20,
      "metadata": {
        "colab": {
          "base_uri": "https://localhost:8080/"
        },
        "id": "CNtcAfdRnkPW",
        "outputId": "99fe8e4d-da4e-4ff2-ff83-aa9cfd1206d9"
      },
      "outputs": [
        {
          "output_type": "stream",
          "name": "stdout",
          "text": [
            "Epoch 1/100\n",
            "11/11 [==============================] - 1s 14ms/step - loss: 523.8509 - mae: 20.9884 - mse: 523.8509 - val_loss: 563.9610 - val_mae: 21.9508 - val_mse: 563.9610\n",
            "Epoch 2/100\n",
            "11/11 [==============================] - 0s 6ms/step - loss: 470.4445 - mae: 19.6547 - mse: 470.4445 - val_loss: 501.4087 - val_mae: 20.4949 - val_mse: 501.4087\n",
            "Epoch 3/100\n",
            "11/11 [==============================] - 0s 4ms/step - loss: 405.1739 - mae: 17.9696 - mse: 405.1739 - val_loss: 423.4567 - val_mae: 18.5964 - val_mse: 423.4567\n",
            "Epoch 4/100\n",
            "11/11 [==============================] - 0s 4ms/step - loss: 327.8673 - mae: 15.7918 - mse: 327.8673 - val_loss: 329.1060 - val_mae: 16.0427 - val_mse: 329.1060\n",
            "Epoch 5/100\n",
            "11/11 [==============================] - 0s 5ms/step - loss: 238.4011 - mae: 13.1276 - mse: 238.4011 - val_loss: 229.5571 - val_mae: 12.9588 - val_mse: 229.5571\n",
            "Epoch 6/100\n",
            "11/11 [==============================] - 0s 4ms/step - loss: 154.2669 - mae: 10.1800 - mse: 154.2669 - val_loss: 143.9801 - val_mae: 9.5257 - val_mse: 143.9801\n",
            "Epoch 7/100\n",
            "11/11 [==============================] - 0s 6ms/step - loss: 92.1204 - mae: 7.5477 - mse: 92.1204 - val_loss: 91.6270 - val_mae: 7.1771 - val_mse: 91.6270\n",
            "Epoch 8/100\n",
            "11/11 [==============================] - 0s 4ms/step - loss: 63.5178 - mae: 6.0430 - mse: 63.5178 - val_loss: 68.0091 - val_mae: 6.1039 - val_mse: 68.0091\n",
            "Epoch 9/100\n",
            "11/11 [==============================] - 0s 5ms/step - loss: 52.6812 - mae: 5.3650 - mse: 52.6812 - val_loss: 55.9469 - val_mae: 5.5176 - val_mse: 55.9469\n",
            "Epoch 10/100\n",
            "11/11 [==============================] - 0s 7ms/step - loss: 43.8861 - mae: 4.8269 - mse: 43.8861 - val_loss: 46.1792 - val_mae: 4.9543 - val_mse: 46.1792\n",
            "Epoch 11/100\n",
            "11/11 [==============================] - 0s 4ms/step - loss: 36.5986 - mae: 4.2865 - mse: 36.5986 - val_loss: 38.6403 - val_mae: 4.5320 - val_mse: 38.6403\n",
            "Epoch 12/100\n",
            "11/11 [==============================] - 0s 5ms/step - loss: 31.4425 - mae: 3.9098 - mse: 31.4425 - val_loss: 34.3678 - val_mae: 4.2395 - val_mse: 34.3678\n",
            "Epoch 13/100\n",
            "11/11 [==============================] - 0s 4ms/step - loss: 28.5386 - mae: 3.6826 - mse: 28.5386 - val_loss: 31.4433 - val_mae: 4.0129 - val_mse: 31.4433\n",
            "Epoch 14/100\n",
            "11/11 [==============================] - 0s 4ms/step - loss: 26.8856 - mae: 3.5346 - mse: 26.8856 - val_loss: 29.7053 - val_mae: 3.8480 - val_mse: 29.7053\n",
            "Epoch 15/100\n",
            "11/11 [==============================] - 0s 4ms/step - loss: 25.4016 - mae: 3.4176 - mse: 25.4016 - val_loss: 27.7176 - val_mae: 3.7540 - val_mse: 27.7176\n",
            "Epoch 16/100\n",
            "11/11 [==============================] - 0s 4ms/step - loss: 24.0201 - mae: 3.3281 - mse: 24.0201 - val_loss: 26.3609 - val_mae: 3.7169 - val_mse: 26.3609\n",
            "Epoch 17/100\n",
            "11/11 [==============================] - 0s 4ms/step - loss: 22.9071 - mae: 3.2682 - mse: 22.9071 - val_loss: 25.3356 - val_mae: 3.7151 - val_mse: 25.3356\n",
            "Epoch 18/100\n",
            "11/11 [==============================] - 0s 6ms/step - loss: 22.1504 - mae: 3.2267 - mse: 22.1504 - val_loss: 24.7933 - val_mae: 3.7258 - val_mse: 24.7933\n",
            "Epoch 19/100\n",
            "11/11 [==============================] - 0s 4ms/step - loss: 21.2923 - mae: 3.1677 - mse: 21.2923 - val_loss: 23.9911 - val_mae: 3.6544 - val_mse: 23.9911\n",
            "Epoch 20/100\n",
            "11/11 [==============================] - 0s 4ms/step - loss: 20.5564 - mae: 3.1162 - mse: 20.5564 - val_loss: 23.2046 - val_mae: 3.5826 - val_mse: 23.2046\n",
            "Epoch 21/100\n",
            "11/11 [==============================] - 0s 7ms/step - loss: 19.8405 - mae: 3.0818 - mse: 19.8405 - val_loss: 22.5030 - val_mae: 3.5602 - val_mse: 22.5030\n",
            "Epoch 22/100\n",
            "11/11 [==============================] - 0s 6ms/step - loss: 19.2186 - mae: 3.0355 - mse: 19.2186 - val_loss: 22.0678 - val_mae: 3.5191 - val_mse: 22.0678\n",
            "Epoch 23/100\n",
            "11/11 [==============================] - 0s 5ms/step - loss: 18.8094 - mae: 3.0147 - mse: 18.8094 - val_loss: 21.7129 - val_mae: 3.4898 - val_mse: 21.7129\n",
            "Epoch 24/100\n",
            "11/11 [==============================] - 0s 5ms/step - loss: 18.3416 - mae: 2.9936 - mse: 18.3416 - val_loss: 21.3029 - val_mae: 3.4526 - val_mse: 21.3029\n",
            "Epoch 25/100\n",
            "11/11 [==============================] - 0s 4ms/step - loss: 17.8089 - mae: 2.9453 - mse: 17.8089 - val_loss: 20.7133 - val_mae: 3.4143 - val_mse: 20.7133\n",
            "Epoch 26/100\n",
            "11/11 [==============================] - 0s 4ms/step - loss: 17.1467 - mae: 2.8736 - mse: 17.1467 - val_loss: 20.0194 - val_mae: 3.3087 - val_mse: 20.0194\n",
            "Epoch 27/100\n",
            "11/11 [==============================] - 0s 5ms/step - loss: 16.8384 - mae: 2.8386 - mse: 16.8384 - val_loss: 19.8994 - val_mae: 3.3348 - val_mse: 19.8994\n",
            "Epoch 28/100\n",
            "11/11 [==============================] - 0s 5ms/step - loss: 16.3447 - mae: 2.7993 - mse: 16.3447 - val_loss: 19.4768 - val_mae: 3.2783 - val_mse: 19.4768\n",
            "Epoch 29/100\n",
            "11/11 [==============================] - 0s 4ms/step - loss: 15.9346 - mae: 2.7619 - mse: 15.9346 - val_loss: 19.4545 - val_mae: 3.3011 - val_mse: 19.4545\n",
            "Epoch 30/100\n",
            "11/11 [==============================] - 0s 6ms/step - loss: 15.5321 - mae: 2.7198 - mse: 15.5321 - val_loss: 18.8578 - val_mae: 3.2211 - val_mse: 18.8578\n",
            "Epoch 31/100\n",
            "11/11 [==============================] - 0s 6ms/step - loss: 15.1211 - mae: 2.6684 - mse: 15.1211 - val_loss: 18.5291 - val_mae: 3.1934 - val_mse: 18.5291\n",
            "Epoch 32/100\n",
            "11/11 [==============================] - 0s 5ms/step - loss: 14.8020 - mae: 2.6373 - mse: 14.8020 - val_loss: 18.3849 - val_mae: 3.1773 - val_mse: 18.3849\n",
            "Epoch 33/100\n",
            "11/11 [==============================] - 0s 6ms/step - loss: 14.5140 - mae: 2.6105 - mse: 14.5140 - val_loss: 18.2517 - val_mae: 3.1723 - val_mse: 18.2517\n",
            "Epoch 34/100\n",
            "11/11 [==============================] - 0s 5ms/step - loss: 14.2421 - mae: 2.5983 - mse: 14.2421 - val_loss: 18.1434 - val_mae: 3.1562 - val_mse: 18.1434\n",
            "Epoch 35/100\n",
            "11/11 [==============================] - 0s 5ms/step - loss: 13.7978 - mae: 2.5453 - mse: 13.7978 - val_loss: 17.5917 - val_mae: 3.0972 - val_mse: 17.5917\n",
            "Epoch 36/100\n",
            "11/11 [==============================] - 0s 6ms/step - loss: 13.6139 - mae: 2.5297 - mse: 13.6139 - val_loss: 17.6433 - val_mae: 3.0814 - val_mse: 17.6433\n",
            "Epoch 37/100\n",
            "11/11 [==============================] - 0s 5ms/step - loss: 13.2021 - mae: 2.5204 - mse: 13.2021 - val_loss: 17.3722 - val_mae: 3.0539 - val_mse: 17.3722\n",
            "Epoch 38/100\n",
            "11/11 [==============================] - 0s 6ms/step - loss: 12.9725 - mae: 2.4823 - mse: 12.9725 - val_loss: 17.0544 - val_mae: 3.0178 - val_mse: 17.0544\n",
            "Epoch 39/100\n",
            "11/11 [==============================] - 0s 4ms/step - loss: 12.7648 - mae: 2.4691 - mse: 12.7648 - val_loss: 17.0321 - val_mae: 3.0210 - val_mse: 17.0321\n",
            "Epoch 40/100\n",
            "11/11 [==============================] - 0s 5ms/step - loss: 12.6083 - mae: 2.4502 - mse: 12.6083 - val_loss: 17.2002 - val_mae: 3.0069 - val_mse: 17.2002\n",
            "Epoch 41/100\n",
            "11/11 [==============================] - 0s 4ms/step - loss: 12.1834 - mae: 2.4160 - mse: 12.1834 - val_loss: 17.2220 - val_mae: 3.0367 - val_mse: 17.2220\n",
            "Epoch 42/100\n",
            "11/11 [==============================] - 0s 4ms/step - loss: 11.9870 - mae: 2.4011 - mse: 11.9870 - val_loss: 17.0677 - val_mae: 3.0170 - val_mse: 17.0677\n",
            "Epoch 43/100\n",
            "11/11 [==============================] - 0s 4ms/step - loss: 11.8604 - mae: 2.3888 - mse: 11.8604 - val_loss: 17.1203 - val_mae: 3.0385 - val_mse: 17.1203\n",
            "Epoch 44/100\n",
            "11/11 [==============================] - 0s 4ms/step - loss: 11.6372 - mae: 2.3611 - mse: 11.6372 - val_loss: 16.8823 - val_mae: 2.9689 - val_mse: 16.8823\n",
            "Epoch 45/100\n",
            "11/11 [==============================] - 0s 4ms/step - loss: 11.4436 - mae: 2.3642 - mse: 11.4436 - val_loss: 17.1274 - val_mae: 2.9485 - val_mse: 17.1274\n",
            "Epoch 46/100\n",
            "11/11 [==============================] - 0s 4ms/step - loss: 11.3482 - mae: 2.3460 - mse: 11.3482 - val_loss: 16.8192 - val_mae: 2.9632 - val_mse: 16.8192\n",
            "Epoch 47/100\n",
            "11/11 [==============================] - 0s 4ms/step - loss: 11.0611 - mae: 2.3003 - mse: 11.0611 - val_loss: 16.8428 - val_mae: 2.9685 - val_mse: 16.8428\n",
            "Epoch 48/100\n",
            "11/11 [==============================] - 0s 4ms/step - loss: 10.8537 - mae: 2.2863 - mse: 10.8537 - val_loss: 16.8821 - val_mae: 2.9554 - val_mse: 16.8821\n",
            "Epoch 49/100\n",
            "11/11 [==============================] - 0s 4ms/step - loss: 10.6579 - mae: 2.2677 - mse: 10.6579 - val_loss: 16.7342 - val_mae: 2.9159 - val_mse: 16.7342\n",
            "Epoch 50/100\n",
            "11/11 [==============================] - 0s 5ms/step - loss: 10.5709 - mae: 2.2544 - mse: 10.5709 - val_loss: 16.7296 - val_mae: 2.8975 - val_mse: 16.7296\n",
            "Epoch 51/100\n",
            "11/11 [==============================] - 0s 4ms/step - loss: 10.6377 - mae: 2.2718 - mse: 10.6377 - val_loss: 16.6637 - val_mae: 2.8697 - val_mse: 16.6637\n",
            "Epoch 52/100\n",
            "11/11 [==============================] - 0s 4ms/step - loss: 10.2750 - mae: 2.2056 - mse: 10.2750 - val_loss: 16.4180 - val_mae: 2.9072 - val_mse: 16.4180\n",
            "Epoch 53/100\n",
            "11/11 [==============================] - 0s 4ms/step - loss: 10.1636 - mae: 2.1932 - mse: 10.1636 - val_loss: 16.6460 - val_mae: 2.8966 - val_mse: 16.6460\n",
            "Epoch 54/100\n",
            "11/11 [==============================] - 0s 4ms/step - loss: 10.0035 - mae: 2.1994 - mse: 10.0035 - val_loss: 16.8538 - val_mae: 2.8602 - val_mse: 16.8538\n",
            "Epoch 55/100\n",
            "11/11 [==============================] - 0s 4ms/step - loss: 10.0243 - mae: 2.2261 - mse: 10.0243 - val_loss: 17.0404 - val_mae: 2.8969 - val_mse: 17.0404\n",
            "Epoch 56/100\n",
            "11/11 [==============================] - 0s 6ms/step - loss: 9.8604 - mae: 2.1864 - mse: 9.8604 - val_loss: 16.6503 - val_mae: 2.9036 - val_mse: 16.6503\n",
            "Epoch 57/100\n",
            "11/11 [==============================] - 0s 5ms/step - loss: 9.7888 - mae: 2.1533 - mse: 9.7888 - val_loss: 16.3554 - val_mae: 2.8671 - val_mse: 16.3554\n",
            "Epoch 58/100\n",
            "11/11 [==============================] - 0s 5ms/step - loss: 9.6389 - mae: 2.1393 - mse: 9.6389 - val_loss: 16.8029 - val_mae: 2.8708 - val_mse: 16.8029\n",
            "Epoch 59/100\n",
            "11/11 [==============================] - 0s 4ms/step - loss: 9.6707 - mae: 2.1595 - mse: 9.6707 - val_loss: 17.0916 - val_mae: 2.9307 - val_mse: 17.0916\n",
            "Epoch 60/100\n",
            "11/11 [==============================] - 0s 5ms/step - loss: 9.3955 - mae: 2.1366 - mse: 9.3955 - val_loss: 16.3440 - val_mae: 2.7847 - val_mse: 16.3440\n",
            "Epoch 61/100\n",
            "11/11 [==============================] - 0s 4ms/step - loss: 9.3989 - mae: 2.1117 - mse: 9.3989 - val_loss: 15.7806 - val_mae: 2.7808 - val_mse: 15.7806\n",
            "Epoch 62/100\n",
            "11/11 [==============================] - 0s 4ms/step - loss: 9.6132 - mae: 2.1074 - mse: 9.6132 - val_loss: 16.0256 - val_mae: 2.8227 - val_mse: 16.0256\n",
            "Epoch 63/100\n",
            "11/11 [==============================] - 0s 4ms/step - loss: 9.2343 - mae: 2.1070 - mse: 9.2343 - val_loss: 16.6732 - val_mae: 2.7535 - val_mse: 16.6732\n",
            "Epoch 64/100\n",
            "11/11 [==============================] - 0s 4ms/step - loss: 9.1184 - mae: 2.1196 - mse: 9.1184 - val_loss: 16.7690 - val_mae: 2.7815 - val_mse: 16.7690\n",
            "Epoch 65/100\n",
            "11/11 [==============================] - 0s 6ms/step - loss: 9.0041 - mae: 2.0762 - mse: 9.0041 - val_loss: 16.6172 - val_mae: 2.7896 - val_mse: 16.6172\n",
            "Epoch 66/100\n",
            "11/11 [==============================] - 0s 4ms/step - loss: 9.0376 - mae: 2.0713 - mse: 9.0376 - val_loss: 16.7870 - val_mae: 2.8420 - val_mse: 16.7870\n",
            "Epoch 67/100\n",
            "11/11 [==============================] - 0s 6ms/step - loss: 8.9719 - mae: 2.0521 - mse: 8.9719 - val_loss: 16.4863 - val_mae: 2.8450 - val_mse: 16.4863\n",
            "Epoch 68/100\n",
            "11/11 [==============================] - 0s 6ms/step - loss: 8.9613 - mae: 2.0367 - mse: 8.9613 - val_loss: 16.6560 - val_mae: 2.7959 - val_mse: 16.6560\n",
            "Epoch 69/100\n",
            "11/11 [==============================] - 0s 6ms/step - loss: 8.7998 - mae: 2.0526 - mse: 8.7998 - val_loss: 16.9119 - val_mae: 2.7121 - val_mse: 16.9119\n",
            "Epoch 70/100\n",
            "11/11 [==============================] - 0s 4ms/step - loss: 8.7550 - mae: 2.0381 - mse: 8.7550 - val_loss: 16.2213 - val_mae: 2.7458 - val_mse: 16.2213\n",
            "Epoch 71/100\n",
            "11/11 [==============================] - 0s 6ms/step - loss: 8.7045 - mae: 2.0267 - mse: 8.7045 - val_loss: 16.6009 - val_mae: 2.7104 - val_mse: 16.6009\n",
            "Epoch 72/100\n",
            "11/11 [==============================] - 0s 4ms/step - loss: 8.4914 - mae: 2.0069 - mse: 8.4914 - val_loss: 17.1047 - val_mae: 2.8023 - val_mse: 17.1047\n",
            "Epoch 73/100\n",
            "11/11 [==============================] - 0s 6ms/step - loss: 8.5685 - mae: 2.0236 - mse: 8.5685 - val_loss: 16.8969 - val_mae: 2.7425 - val_mse: 16.8969\n",
            "Epoch 74/100\n",
            "11/11 [==============================] - 0s 5ms/step - loss: 8.5343 - mae: 2.0320 - mse: 8.5343 - val_loss: 17.3623 - val_mae: 2.7577 - val_mse: 17.3623\n",
            "Epoch 75/100\n",
            "11/11 [==============================] - 0s 4ms/step - loss: 8.4069 - mae: 2.0361 - mse: 8.4069 - val_loss: 16.8583 - val_mae: 2.7044 - val_mse: 16.8583\n",
            "Epoch 76/100\n",
            "11/11 [==============================] - 0s 4ms/step - loss: 8.5513 - mae: 2.0328 - mse: 8.5513 - val_loss: 17.1508 - val_mae: 2.6901 - val_mse: 17.1508\n",
            "Epoch 77/100\n",
            "11/11 [==============================] - 0s 5ms/step - loss: 10.2421 - mae: 2.3217 - mse: 10.2421 - val_loss: 21.3743 - val_mae: 3.0187 - val_mse: 21.3743\n",
            "Epoch 78/100\n",
            "11/11 [==============================] - 0s 4ms/step - loss: 9.2298 - mae: 2.1921 - mse: 9.2298 - val_loss: 17.0571 - val_mae: 2.8025 - val_mse: 17.0571\n",
            "Epoch 79/100\n",
            "11/11 [==============================] - 0s 4ms/step - loss: 8.6429 - mae: 2.0667 - mse: 8.6429 - val_loss: 16.2961 - val_mae: 2.7721 - val_mse: 16.2961\n",
            "Epoch 80/100\n",
            "11/11 [==============================] - 0s 5ms/step - loss: 8.2949 - mae: 2.0102 - mse: 8.2949 - val_loss: 17.1285 - val_mae: 2.7457 - val_mse: 17.1285\n",
            "Epoch 81/100\n",
            "11/11 [==============================] - 0s 4ms/step - loss: 8.1541 - mae: 2.0347 - mse: 8.1541 - val_loss: 16.9481 - val_mae: 2.7454 - val_mse: 16.9481\n",
            "Epoch 82/100\n",
            "11/11 [==============================] - 0s 4ms/step - loss: 7.9767 - mae: 1.9863 - mse: 7.9767 - val_loss: 16.3865 - val_mae: 2.7261 - val_mse: 16.3865\n",
            "Epoch 83/100\n",
            "11/11 [==============================] - 0s 4ms/step - loss: 8.0156 - mae: 1.9648 - mse: 8.0156 - val_loss: 16.1768 - val_mae: 2.7209 - val_mse: 16.1768\n",
            "Epoch 84/100\n",
            "11/11 [==============================] - 0s 4ms/step - loss: 7.9679 - mae: 1.9738 - mse: 7.9679 - val_loss: 16.7707 - val_mae: 2.7077 - val_mse: 16.7707\n",
            "Epoch 85/100\n",
            "11/11 [==============================] - 0s 4ms/step - loss: 7.8883 - mae: 1.9878 - mse: 7.8883 - val_loss: 16.5355 - val_mae: 2.6951 - val_mse: 16.5355\n",
            "Epoch 86/100\n",
            "11/11 [==============================] - 0s 4ms/step - loss: 7.9082 - mae: 1.9677 - mse: 7.9082 - val_loss: 16.3462 - val_mae: 2.7472 - val_mse: 16.3462\n",
            "Epoch 87/100\n",
            "11/11 [==============================] - 0s 6ms/step - loss: 7.9362 - mae: 1.9774 - mse: 7.9362 - val_loss: 16.9283 - val_mae: 2.7360 - val_mse: 16.9283\n",
            "Epoch 88/100\n",
            "11/11 [==============================] - 0s 4ms/step - loss: 7.8401 - mae: 1.9749 - mse: 7.8401 - val_loss: 16.6781 - val_mae: 2.7338 - val_mse: 16.6781\n",
            "Epoch 89/100\n",
            "11/11 [==============================] - 0s 4ms/step - loss: 7.7902 - mae: 1.9600 - mse: 7.7902 - val_loss: 16.5796 - val_mae: 2.7429 - val_mse: 16.5796\n",
            "Epoch 90/100\n",
            "11/11 [==============================] - 0s 4ms/step - loss: 7.8286 - mae: 1.9578 - mse: 7.8286 - val_loss: 16.4636 - val_mae: 2.6984 - val_mse: 16.4636\n",
            "Epoch 91/100\n",
            "11/11 [==============================] - 0s 4ms/step - loss: 7.6934 - mae: 1.9173 - mse: 7.6934 - val_loss: 16.4037 - val_mae: 2.7498 - val_mse: 16.4037\n",
            "Epoch 92/100\n",
            "11/11 [==============================] - 0s 4ms/step - loss: 7.6959 - mae: 1.9428 - mse: 7.6959 - val_loss: 16.6907 - val_mae: 2.6898 - val_mse: 16.6907\n",
            "Epoch 93/100\n",
            "11/11 [==============================] - 0s 4ms/step - loss: 7.5910 - mae: 1.9402 - mse: 7.5910 - val_loss: 16.4087 - val_mae: 2.6752 - val_mse: 16.4087\n",
            "Epoch 94/100\n",
            "11/11 [==============================] - 0s 6ms/step - loss: 7.5982 - mae: 1.9314 - mse: 7.5982 - val_loss: 16.2461 - val_mae: 2.6688 - val_mse: 16.2461\n",
            "Epoch 95/100\n",
            "11/11 [==============================] - 0s 4ms/step - loss: 7.5792 - mae: 1.9059 - mse: 7.5792 - val_loss: 16.2545 - val_mae: 2.7125 - val_mse: 16.2545\n",
            "Epoch 96/100\n",
            "11/11 [==============================] - 0s 4ms/step - loss: 7.6430 - mae: 1.9299 - mse: 7.6430 - val_loss: 16.9120 - val_mae: 2.6800 - val_mse: 16.9120\n",
            "Epoch 97/100\n",
            "11/11 [==============================] - 0s 4ms/step - loss: 7.5876 - mae: 1.9338 - mse: 7.5876 - val_loss: 16.3062 - val_mae: 2.7140 - val_mse: 16.3062\n",
            "Epoch 98/100\n",
            "11/11 [==============================] - 0s 5ms/step - loss: 7.4169 - mae: 1.8984 - mse: 7.4169 - val_loss: 16.5245 - val_mae: 2.7077 - val_mse: 16.5245\n",
            "Epoch 99/100\n",
            "11/11 [==============================] - 0s 4ms/step - loss: 7.3987 - mae: 1.8978 - mse: 7.3987 - val_loss: 16.5793 - val_mae: 2.6520 - val_mse: 16.5793\n",
            "Epoch 100/100\n",
            "11/11 [==============================] - 0s 4ms/step - loss: 7.3766 - mae: 1.8954 - mse: 7.3766 - val_loss: 16.4578 - val_mae: 2.6752 - val_mse: 16.4578\n",
            "4/4 [==============================] - 0s 3ms/step - loss: 25.7897 - mae: 3.0969 - mse: 25.7897\n",
            "Mean squared error: 25.789735794067383\n",
            "Mean absolute error: 3.0969412326812744\n",
            "4/4 [==============================] - 0s 2ms/step\n"
          ]
        }
      ],
      "source": [
        "import numpy as np\n",
        "import tensorflow as tf\n",
        "from tensorflow import keras\n",
        "\n",
        "# Load and preprocess data\n",
        "(x_train, y_train), (x_test, y_test) = keras.datasets.boston_housing.load_data()\n",
        "\n",
        "x_train_mean = np.mean(x_train, axis=0)\n",
        "x_train_std = np.std(x_train, axis=0)\n",
        "x_train = (x_train - x_train_mean) / x_train_std\n",
        "x_test = (x_test - x_train_mean) / x_train_std\n",
        "\n",
        "# Define neural network architecture\n",
        "model = keras.Sequential([\n",
        "  keras.layers.Dense(64, activation='relu', input_shape=(x_train.shape[1],)),\n",
        "  keras.layers.Dense(64, activation='relu'),\n",
        "  keras.layers.Dense(1)\n",
        "])\n",
        "\n",
        "# Compile model\n",
        "model.compile(optimizer='adam', loss='mean_squared_error', metrics=['mae', 'mse'])\n",
        "\n",
        "# Train model\n",
        "model.fit(x_train, y_train, epochs=100, batch_size=32, validation_split=0.2)\n",
        "\n",
        "# # Evaluate model\n",
        "loss,mae,mse= model.evaluate(x_test, y_test)\n",
        "print('Mean squared error:', mse)\n",
        "print('Mean absolute error:', mae)\n",
        "\n",
        "# Make predictions\n",
        "predictions = model.predict(x_test)\n",
        "\n",
        "\n"
      ]
    },
    {
      "cell_type": "code",
      "source": [
        "predictions[2]\n",
        "\n"
      ],
      "metadata": {
        "colab": {
          "base_uri": "https://localhost:8080/"
        },
        "id": "lRXxUiPdqD10",
        "outputId": "a8c80939-d99c-4285-c453-59e6824dc834"
      },
      "execution_count": 21,
      "outputs": [
        {
          "output_type": "execute_result",
          "data": {
            "text/plain": [
              "array([21.085384], dtype=float32)"
            ]
          },
          "metadata": {},
          "execution_count": 21
        }
      ]
    },
    {
      "cell_type": "code",
      "source": [
        "y_test[2]"
      ],
      "metadata": {
        "colab": {
          "base_uri": "https://localhost:8080/"
        },
        "id": "bL-r_T5hqf0u",
        "outputId": "212770e9-b789-441b-ad25-38ee2974d0c0"
      },
      "execution_count": 22,
      "outputs": [
        {
          "output_type": "execute_result",
          "data": {
            "text/plain": [
              "19.0"
            ]
          },
          "metadata": {},
          "execution_count": 22
        }
      ]
    },
    {
      "cell_type": "code",
      "source": [
        "import matplotlib.pyplot as plt\n",
        "\n",
        "# Predict the output for the test data\n",
        "predictions = model.predict(x_test)\n",
        "\n",
        "# Plot the predicted and true output values\n",
        "plt.scatter(y_test, predictions)\n",
        "plt.xlabel('True Values')\n",
        "plt.ylabel('Predictions')\n",
        "plt.axis('equal')\n",
        "plt.xlim(plt.xlim())\n",
        "plt.ylim(plt.ylim())\n",
        "plt.plot([-100, 100], [-100, 100])\n",
        "plt.show()\n"
      ],
      "metadata": {
        "colab": {
          "base_uri": "https://localhost:8080/",
          "height": 466
        },
        "id": "lGzt6DAg5tbg",
        "outputId": "bf8f23fe-d975-4c2e-e780-ab0661fc4b90"
      },
      "execution_count": 24,
      "outputs": [
        {
          "output_type": "stream",
          "name": "stdout",
          "text": [
            "4/4 [==============================] - 0s 3ms/step\n"
          ]
        },
        {
          "output_type": "display_data",
          "data": {
            "text/plain": [
              "<Figure size 640x480 with 1 Axes>"
            ],
            "image/png": "[encoded data removed]"
          },
          "metadata": {}
        }
      ]
    },
    {
      "cell_type": "code",
      "source": [
        "#error plot\n",
        "plt.plot(abs(np.squeeze(predictions)-np.squeeze(y_test)),'r*')"
      ],
      "metadata": {
        "colab": {
          "base_uri": "https://localhost:8080/",
          "height": 447
        },
        "id": "7OtypdJi6WHF",
        "outputId": "435ea703-4093-43ca-cb4d-3ce3a827b27d"
      },
      "execution_count": 32,
      "outputs": [
        {
          "output_type": "execute_result",
          "data": {
            "text/plain": [
              "[<matplotlib.lines.Line2D at 0x7fcd259d2790>]"
            ]
          },
          "metadata": {},
          "execution_count": 32
        },
        {
          "output_type": "display_data",
          "data": {
            "text/plain": [
              "<Figure size 640x480 with 1 Axes>"
            ],
            "image/png": "[encoded data removed]"
          },
          "metadata": {}
        }
      ]
    }
  ]
}