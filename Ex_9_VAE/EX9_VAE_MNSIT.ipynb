{
  "nbformat": 4,
  "nbformat_minor": 0,
  "metadata": {
    "colab": {
      "provenance": []
    },
    "kernelspec": {
      "name": "python3",
      "display_name": "Python 3"
    },
    "language_info": {
      "name": "python"
    }
  },
  "cells": [
    {
      "cell_type": "markdown",
      "source": [
        "# **This code implements a Variational Autoencoder (VAE) for the MNIST dataset using PyTorch. The VAE model consists of an encoder that maps the input image to a latent representation, and a decoder that reconstructs the input image from the latent representation. The model is trained by minimizing the reconstruction loss and the KL divergence between the latent distribution and the prior distribution.**\n",
        "\n",
        "\n",
        "[Colab link](https://colab.research.google.com/drive/19imVdJ95MzO8XQEvZFw_hDNVs6_4n65B#scrollTo=RKBSuBhJw92m)"
      ],
      "metadata": {
        "id": "JKX09W8RmV3e"
      }
    },
    {
      "cell_type": "markdown",
      "source": [
        "Import the necessary PyTorch modules and the torchvision module for loading and preprocessing the MNIST dataset."
      ],
      "metadata": {
        "id": "m6nDUM9miWef"
      }
    },
    {
      "cell_type": "code",
      "execution_count": 10,
      "metadata": {
        "id": "KzVGYRK8B_PR"
      },
      "outputs": [],
      "source": [
        "import torch\n",
        "import torch.nn as nn\n",
        "import torch.nn.functional as F\n",
        "from torchvision import datasets, transforms"
      ]
    },
    {
      "cell_type": "markdown",
      "source": [
        "Define the hyperparameters for the VAE model: batch size, latent dimension, number of epochs, and the device (GPU if available, otherwise CPU) on which to run the computations."
      ],
      "metadata": {
        "id": "Xuls8dDsiexg"
      }
    },
    {
      "cell_type": "code",
      "source": [
        "# Hyperparameters\n",
        "batch_size = 128\n",
        "latent_dim = 20\n",
        "epochs = 20\n",
        "device = torch.device('cuda' if torch.cuda.is_available() else 'cpu')"
      ],
      "metadata": {
        "id": "pwFOBDBfCQk1"
      },
      "execution_count": 11,
      "outputs": []
    },
    {
      "cell_type": "markdown",
      "source": [
        "Load the MNIST dataset from the './data' directory, convert the images to PyTorch tensors using transforms.ToTensor(), and create a data loader for iterating over the dataset in batches of size batch_size with shuffling enabled."
      ],
      "metadata": {
        "id": "APv_K4sJip_R"
      }
    },
    {
      "cell_type": "code",
      "source": [
        "# Load and preprocess MNIST dataset\n",
        "mnist = datasets.MNIST(root='./data', train=True, download=True, transform=transforms.ToTensor())\n",
        "data_loader = torch.utils.data.DataLoader(mnist, batch_size=batch_size, shuffle=True)"
      ],
      "metadata": {
        "id": "0eRo0n4jEwZe"
      },
      "execution_count": 12,
      "outputs": []
    },
    {
      "cell_type": "markdown",
      "source": [
        "Define VAE model class, which inherits from nn.Module. The __init__ method initializes the model with the specified latent_dim.\n",
        "\n",
        "Define the encoder part of the VAE model. The encoder consists of two convolutional layers, followed by a flatten operation and a fully connected layer. The output of the encoder is then passed through two separate fully connected layers to produce the mean (mu) and log variance (log_var) of the latent distribution.\n",
        "\n",
        " **Encoder:**\n",
        "\n",
        "**Convolutional Layer 1:**\n",
        "\n",
        "Input: 1 channel (grayscale MNIST images)\n",
        "Output: 32 channels\n",
        "Kernel Size: 3x3\n",
        "Stride: 2\n",
        "Padding: 1\n",
        "Activation: ReLU\n",
        "Output Size: (batch_size, 32, 14, 14)\n",
        "\n",
        "**Convolutional Layer 2:**\n",
        "\n",
        "Input: 32 channels\n",
        "Output: 64 channels\n",
        "Kernel Size: 3x3\n",
        "Stride: 2\n",
        "Padding: 1\n",
        "Activation: ReLU\n",
        "Output Size: (batch_size, 64, 7, 7)\n",
        "\n",
        "**Flatten Layer:**\n",
        "\n",
        "Flattens the output from the previous convolutional layer\n",
        "Output Size: (batch_size, 64 * 7 * 7)\n",
        "\n",
        "**Linear Layer (Hidden):**\n",
        "\n",
        "Input: 64 * 7 * 7\n",
        "Output: 256\n",
        "Activation: ReLU\n",
        "Output Size: (batch_size, 256)\n",
        "\n",
        "**Mean (mu) Layer:**\n",
        "\n",
        "Linear transformation from the hidden layer to the latent space mean\n",
        "Input: 256\n",
        "Output: latent_dim\n",
        "Output Size: (batch_size, latent_dim)\n",
        "\n",
        "**Log Variance (log_var) Layer:**\n",
        "\n",
        "Linear transformation from the hidden layer to the latent space log variance\n",
        "Input: 256\n",
        "Output: latent_dim\n",
        "Output Size: (batch_size, latent_dim)\n",
        "\n",
        "**Decoder:**\n",
        "\n",
        "**Linear Layer (Hidden):**\n",
        "\n",
        "Input: latent_dim\n",
        "Output: 256\n",
        "Activation: ReLU\n",
        "Output Size: (batch_size, 256)\n",
        "\n",
        "**Linear Layer (Upsampling):**\n",
        "\n",
        "Input: 256\n",
        "Output: 64 * 7 * 7\n",
        "Activation: ReLU\n",
        "Output Size: (batch_size, 64 * 7 * 7)\n",
        "\n",
        "**Reshape Layer:**\n",
        "\n",
        "Reshapes the output from the previous linear layer into a 4D tensor\n",
        "Output Size: (batch_size, 64, 7, 7)\n",
        "\n",
        "**Transposed Convolutional Layer 1:**\n",
        "\n",
        "Input: 64 channels\n",
        "Output: 32 channels\n",
        "Kernel Size: 3x3\n",
        "Stride: 2\n",
        "Padding: 1\n",
        "Output Padding: 1\n",
        "Activation: ReLU\n",
        "Output Size: (batch_size, 32, 14, 14)\n",
        "\n",
        "**Transposed Convolutional Layer 2:**\n",
        "\n",
        "Input: 32 channels\n",
        "Output: 1 channel\n",
        "Kernel Size: 3x3\n",
        "Stride: 2\n",
        "Padding: 1\n",
        "Output Padding: 1\n",
        "Activation: Sigmoid\n",
        "Output Size: (batch_size, 1, 28, 28)\n",
        "\n",
        "**Summary:**\n",
        "\n",
        "-The encoder reduces the spatial dimensions of the input MNIST images while increasing the number of channels.\n",
        "\n",
        "-The decoder upsamples the latent space representation to reconstruct the original size of the MNIST images.\n",
        "\n",
        "-The final output from the decoder represents the reconstructed MNIST images with pixel values constrained between 0 and 1, suitable for grayscale images."
      ],
      "metadata": {
        "id": "QCTrRr4ri5XN"
      }
    },
    {
      "cell_type": "code",
      "source": [
        "# Define the VAE model\n",
        "class VAE(nn.Module):\n",
        "    def __init__(self, latent_dim):\n",
        "        super(VAE, self).__init__()\n",
        "        self.latent_dim = latent_dim\n",
        "\n",
        "        # Encoder\n",
        "        self.encoder = nn.Sequential(\n",
        "            nn.Conv2d(1, 32, kernel_size=3, stride=2, padding=1),\n",
        "            nn.ReLU(),\n",
        "            nn.Conv2d(32, 64, kernel_size=3, stride=2, padding=1),\n",
        "            nn.ReLU(),\n",
        "            nn.Flatten(),\n",
        "            nn.Linear(64 * 7 * 7, 256),\n",
        "            nn.ReLU()\n",
        "        )\n",
        "        self.mu = nn.Linear(256, latent_dim)\n",
        "        self.log_var = nn.Linear(256, latent_dim)\n",
        "\n",
        "\n",
        "        self.decoder = nn.Sequential(\n",
        "            nn.Linear(latent_dim, 256),\n",
        "            nn.ReLU(),\n",
        "            nn.Linear(256, 64 * 7 * 7),\n",
        "            nn.ReLU(),\n",
        "            nn.Unflatten(1, (64, 7, 7)),\n",
        "            nn.ConvTranspose2d(64, 32, kernel_size=3, stride=2, padding=1, output_padding=1),\n",
        "            nn.ReLU(),\n",
        "            nn.ConvTranspose2d(32, 1, kernel_size=3, stride=2, padding=1, output_padding=1),\n",
        "            nn.Sigmoid()  # Add Sigmoid activation to ensure output values are between 0 and 1\n",
        "        )\n",
        "\n",
        "\n",
        "    def reparameterize(self, mu, log_var):\n",
        "        std = torch.exp(0.5 * log_var)\n",
        "        eps = torch.randn_like(std)\n",
        "        return mu + eps * std\n",
        "\n",
        "    def forward(self, x):\n",
        "        h = self.encoder(x)\n",
        "        mu, log_var = self.mu(h), self.log_var(h)\n",
        "        z = self.reparameterize(mu, log_var)\n",
        "        x_recon = self.decoder(z)\n",
        "        return x_recon, mu, log_var"
      ],
      "metadata": {
        "id": "LOcn_DVmCMra"
      },
      "execution_count": 13,
      "outputs": []
    },
    {
      "cell_type": "markdown",
      "source": [
        "This method implements the reparameterization trick used in VAEs to sample from the latent distribution during training.\n",
        "\n",
        "This is the forward pass of the VAE model. It takes the input image x, passes it through the encoder to obtain the mean and log variance of the latent distribution, samples a latent representation z using the reparameterization trick, and then passes z through the decoder to reconstruct the input image. The method returns the reconstructed image (x_recon), the mean (mu), and the log variance (log_var)."
      ],
      "metadata": {
        "id": "eS2o3VZwk8YK"
      }
    },
    {
      "cell_type": "code",
      "source": [
        "# Instantiate the model\n",
        "model = VAE(latent_dim).to(device)"
      ],
      "metadata": {
        "id": "0U0sQxEFlJ8a"
      },
      "execution_count": 14,
      "outputs": []
    },
    {
      "cell_type": "markdown",
      "source": [
        "This line instantiates the VAE model with the specified latent_dim and moves it to the appropriate device (GPU or CPU)."
      ],
      "metadata": {
        "id": "hc5BpujnlEmj"
      }
    },
    {
      "cell_type": "markdown",
      "source": [
        "**Loss function for the VAE model**.\n",
        "\n",
        "It consists of two parts: the reconstruction loss (binary cross-entropy between the reconstructed image and the input image) and the Kullback-Leibler (KL) divergence between the latent distribution and the prior distribution (which is a standard normal distribution in this case).\n",
        "\n",
        "optimizer (Adam) is used for updating the model parameters during training, with a learning rate of 1e-3."
      ],
      "metadata": {
        "id": "4v35KVw-lTYe"
      }
    },
    {
      "cell_type": "code",
      "source": [
        "\n",
        "\n",
        "# Define the loss function\n",
        "def loss_function(x_recon, x, mu, log_var):\n",
        "    reconstruction_loss = F.binary_cross_entropy(x_recon, x, reduction='sum')\n",
        "    kl_divergence = -0.5 * torch.sum(1 + log_var - mu.pow(2) - log_var.exp())\n",
        "    return reconstruction_loss + kl_divergence\n",
        "\n",
        "# Define the optimizer\n",
        "optimizer = torch.optim.Adam(model.parameters(), lr=1e-3)\n",
        "\n"
      ],
      "metadata": {
        "id": "DWl83-BgCeeB"
      },
      "execution_count": 15,
      "outputs": []
    },
    {
      "cell_type": "markdown",
      "source": [
        "**Training loop for the VAE model.**\n",
        "It iterates over the specified number of epochs and, for each batch of data, performs the following steps:\n",
        "\n",
        "1) Move the input data (x) to the appropriate device.\n",
        "\n",
        "2) Zero out the gradients from the previous iteration.\n",
        "\n",
        "3) Pass the input data through the VAE model to obtain the reconstructed image (x_recon), mean (mu), and log variance (log_var).\n",
        "\n",
        "4) Compute the loss using the loss_function.\n",
        "\n",
        "5) Backpropagate the gradients of the loss.\n",
        "\n",
        "6) Update the model parameters using the optimizer.\n",
        "\n",
        "7) Print the current epoch, batch, and loss every 100 batches.\n",
        "\n",
        "it saves the trained model's state dictionary (weights and biases) to a file named 'vae.pth'."
      ],
      "metadata": {
        "id": "tD0Rcl0Klq9_"
      }
    },
    {
      "cell_type": "markdown",
      "source": [],
      "metadata": {
        "id": "fBCjevolmTMG"
      }
    },
    {
      "cell_type": "code",
      "source": [
        "# Training loop\n",
        "for epoch in range(epochs):\n",
        "    for batch_idx, (x, _) in enumerate(data_loader):\n",
        "        x = x.to(device)\n",
        "        optimizer.zero_grad()\n",
        "        x_recon, mu, log_var = model(x)\n",
        "        loss = loss_function(x_recon, x, mu, log_var)\n",
        "        loss.backward()\n",
        "        optimizer.step()\n",
        "        if batch_idx % 100 == 0:\n",
        "            print(f'Epoch: {epoch+1}/{epochs}, Batch: {batch_idx+1}/{len(data_loader)}, Loss: {loss.item() / batch_size:.4f}')\n",
        "\n",
        "# Save the trained model\n",
        "torch.save(model.state_dict(), 'vae.pth')"
      ],
      "metadata": {
        "colab": {
          "base_uri": "https://localhost:8080/"
        },
        "id": "RUvk52Jofimd",
        "outputId": "36c9285c-09aa-4c22-f4ff-9ea6a3573eb3"
      },
      "execution_count": 16,
      "outputs": [
        {
          "output_type": "stream",
          "name": "stdout",
          "text": [
            "Epoch: 1/20, Batch: 1/469, Loss: 466.2633\n",
            "Epoch: 1/20, Batch: 101/469, Loss: 198.7847\n",
            "Epoch: 1/20, Batch: 201/469, Loss: 160.5827\n",
            "Epoch: 1/20, Batch: 301/469, Loss: 154.4782\n",
            "Epoch: 1/20, Batch: 401/469, Loss: 137.4309\n",
            "Epoch: 2/20, Batch: 1/469, Loss: 123.8185\n",
            "Epoch: 2/20, Batch: 101/469, Loss: 121.9520\n",
            "Epoch: 2/20, Batch: 201/469, Loss: 118.6191\n",
            "Epoch: 2/20, Batch: 301/469, Loss: 114.5827\n",
            "Epoch: 2/20, Batch: 401/469, Loss: 109.4721\n",
            "Epoch: 3/20, Batch: 1/469, Loss: 106.6530\n",
            "Epoch: 3/20, Batch: 101/469, Loss: 112.6362\n",
            "Epoch: 3/20, Batch: 201/469, Loss: 107.1552\n",
            "Epoch: 3/20, Batch: 301/469, Loss: 102.1541\n",
            "Epoch: 3/20, Batch: 401/469, Loss: 104.2223\n",
            "Epoch: 4/20, Batch: 1/469, Loss: 111.3882\n",
            "Epoch: 4/20, Batch: 101/469, Loss: 104.1933\n",
            "Epoch: 4/20, Batch: 201/469, Loss: 104.2441\n",
            "Epoch: 4/20, Batch: 301/469, Loss: 105.0988\n",
            "Epoch: 4/20, Batch: 401/469, Loss: 105.2579\n",
            "Epoch: 5/20, Batch: 1/469, Loss: 111.8313\n",
            "Epoch: 5/20, Batch: 101/469, Loss: 103.0321\n",
            "Epoch: 5/20, Batch: 201/469, Loss: 107.1537\n",
            "Epoch: 5/20, Batch: 301/469, Loss: 106.1054\n",
            "Epoch: 5/20, Batch: 401/469, Loss: 99.0253\n",
            "Epoch: 6/20, Batch: 1/469, Loss: 102.8244\n",
            "Epoch: 6/20, Batch: 101/469, Loss: 102.5882\n",
            "Epoch: 6/20, Batch: 201/469, Loss: 102.8583\n",
            "Epoch: 6/20, Batch: 301/469, Loss: 102.7524\n",
            "Epoch: 6/20, Batch: 401/469, Loss: 102.2578\n",
            "Epoch: 7/20, Batch: 1/469, Loss: 103.5331\n",
            "Epoch: 7/20, Batch: 101/469, Loss: 99.7507\n",
            "Epoch: 7/20, Batch: 201/469, Loss: 98.6786\n",
            "Epoch: 7/20, Batch: 301/469, Loss: 102.0677\n",
            "Epoch: 7/20, Batch: 401/469, Loss: 99.0027\n",
            "Epoch: 8/20, Batch: 1/469, Loss: 103.1476\n",
            "Epoch: 8/20, Batch: 101/469, Loss: 97.7292\n",
            "Epoch: 8/20, Batch: 201/469, Loss: 104.8133\n",
            "Epoch: 8/20, Batch: 301/469, Loss: 99.6289\n",
            "Epoch: 8/20, Batch: 401/469, Loss: 100.2476\n",
            "Epoch: 9/20, Batch: 1/469, Loss: 101.7947\n",
            "Epoch: 9/20, Batch: 101/469, Loss: 102.1522\n",
            "Epoch: 9/20, Batch: 201/469, Loss: 101.3008\n",
            "Epoch: 9/20, Batch: 301/469, Loss: 99.4771\n",
            "Epoch: 9/20, Batch: 401/469, Loss: 101.0353\n",
            "Epoch: 10/20, Batch: 1/469, Loss: 102.0894\n",
            "Epoch: 10/20, Batch: 101/469, Loss: 101.1752\n",
            "Epoch: 10/20, Batch: 201/469, Loss: 101.0078\n",
            "Epoch: 10/20, Batch: 301/469, Loss: 99.3632\n",
            "Epoch: 10/20, Batch: 401/469, Loss: 100.3951\n",
            "Epoch: 11/20, Batch: 1/469, Loss: 103.3658\n",
            "Epoch: 11/20, Batch: 101/469, Loss: 102.0815\n",
            "Epoch: 11/20, Batch: 201/469, Loss: 92.8131\n",
            "Epoch: 11/20, Batch: 301/469, Loss: 97.7064\n",
            "Epoch: 11/20, Batch: 401/469, Loss: 98.6954\n",
            "Epoch: 12/20, Batch: 1/469, Loss: 102.3433\n",
            "Epoch: 12/20, Batch: 101/469, Loss: 95.1839\n",
            "Epoch: 12/20, Batch: 201/469, Loss: 97.9561\n",
            "Epoch: 12/20, Batch: 301/469, Loss: 98.2760\n",
            "Epoch: 12/20, Batch: 401/469, Loss: 97.9106\n",
            "Epoch: 13/20, Batch: 1/469, Loss: 100.2702\n",
            "Epoch: 13/20, Batch: 101/469, Loss: 97.6936\n",
            "Epoch: 13/20, Batch: 201/469, Loss: 98.9314\n",
            "Epoch: 13/20, Batch: 301/469, Loss: 102.4259\n",
            "Epoch: 13/20, Batch: 401/469, Loss: 103.4357\n",
            "Epoch: 14/20, Batch: 1/469, Loss: 97.9096\n",
            "Epoch: 14/20, Batch: 101/469, Loss: 97.9034\n",
            "Epoch: 14/20, Batch: 201/469, Loss: 99.0485\n",
            "Epoch: 14/20, Batch: 301/469, Loss: 100.2471\n",
            "Epoch: 14/20, Batch: 401/469, Loss: 100.0483\n",
            "Epoch: 15/20, Batch: 1/469, Loss: 98.2481\n",
            "Epoch: 15/20, Batch: 101/469, Loss: 97.8606\n",
            "Epoch: 15/20, Batch: 201/469, Loss: 97.5661\n",
            "Epoch: 15/20, Batch: 301/469, Loss: 100.1146\n",
            "Epoch: 15/20, Batch: 401/469, Loss: 98.5834\n",
            "Epoch: 16/20, Batch: 1/469, Loss: 97.0502\n",
            "Epoch: 16/20, Batch: 101/469, Loss: 97.9059\n",
            "Epoch: 16/20, Batch: 201/469, Loss: 96.5001\n",
            "Epoch: 16/20, Batch: 301/469, Loss: 99.3596\n",
            "Epoch: 16/20, Batch: 401/469, Loss: 102.7769\n",
            "Epoch: 17/20, Batch: 1/469, Loss: 98.4449\n",
            "Epoch: 17/20, Batch: 101/469, Loss: 97.0681\n",
            "Epoch: 17/20, Batch: 201/469, Loss: 98.7140\n",
            "Epoch: 17/20, Batch: 301/469, Loss: 101.1602\n",
            "Epoch: 17/20, Batch: 401/469, Loss: 96.3647\n",
            "Epoch: 18/20, Batch: 1/469, Loss: 96.9873\n",
            "Epoch: 18/20, Batch: 101/469, Loss: 96.4464\n",
            "Epoch: 18/20, Batch: 201/469, Loss: 95.2862\n",
            "Epoch: 18/20, Batch: 301/469, Loss: 96.6806\n",
            "Epoch: 18/20, Batch: 401/469, Loss: 96.8994\n",
            "Epoch: 19/20, Batch: 1/469, Loss: 98.2395\n",
            "Epoch: 19/20, Batch: 101/469, Loss: 97.8350\n",
            "Epoch: 19/20, Batch: 201/469, Loss: 96.3525\n",
            "Epoch: 19/20, Batch: 301/469, Loss: 93.3529\n",
            "Epoch: 19/20, Batch: 401/469, Loss: 93.4733\n",
            "Epoch: 20/20, Batch: 1/469, Loss: 93.3317\n",
            "Epoch: 20/20, Batch: 101/469, Loss: 96.9451\n",
            "Epoch: 20/20, Batch: 201/469, Loss: 96.3313\n",
            "Epoch: 20/20, Batch: 301/469, Loss: 98.7353\n",
            "Epoch: 20/20, Batch: 401/469, Loss: 94.1052\n"
          ]
        }
      ]
    },
    {
      "cell_type": "markdown",
      "source": [
        "**Load the saved model weights:**\n",
        "\n",
        "we first create an instance of the VAE model with the same latent_dim as the trained model. Then, we load the saved state dictionary (vae.pth) containing the trained weights and biases into the model using model.load_state_dict(torch.load('vae.pth')). Finally, we set the model to evaluation mode using model.eval()."
      ],
      "metadata": {
        "id": "8d7B_dvEn7fI"
      }
    },
    {
      "cell_type": "code",
      "source": [
        "# Load the saved model\n",
        "model = VAE(latent_dim)\n",
        "model.load_state_dict(torch.load('vae.pth'))\n",
        "model.eval()"
      ],
      "metadata": {
        "colab": {
          "base_uri": "https://localhost:8080/"
        },
        "id": "dUB1xur0nwRN",
        "outputId": "1d2e583c-1ef7-4e01-f6d3-e7af4d46bed5"
      },
      "execution_count": 17,
      "outputs": [
        {
          "output_type": "execute_result",
          "data": {
            "text/plain": [
              "VAE(\n",
              "  (encoder): Sequential(\n",
              "    (0): Conv2d(1, 32, kernel_size=(3, 3), stride=(2, 2), padding=(1, 1))\n",
              "    (1): ReLU()\n",
              "    (2): Conv2d(32, 64, kernel_size=(3, 3), stride=(2, 2), padding=(1, 1))\n",
              "    (3): ReLU()\n",
              "    (4): Flatten(start_dim=1, end_dim=-1)\n",
              "    (5): Linear(in_features=3136, out_features=256, bias=True)\n",
              "    (6): ReLU()\n",
              "  )\n",
              "  (mu): Linear(in_features=256, out_features=20, bias=True)\n",
              "  (log_var): Linear(in_features=256, out_features=20, bias=True)\n",
              "  (decoder): Sequential(\n",
              "    (0): Linear(in_features=20, out_features=256, bias=True)\n",
              "    (1): ReLU()\n",
              "    (2): Linear(in_features=256, out_features=3136, bias=True)\n",
              "    (3): ReLU()\n",
              "    (4): Unflatten(dim=1, unflattened_size=(64, 7, 7))\n",
              "    (5): ConvTranspose2d(64, 32, kernel_size=(3, 3), stride=(2, 2), padding=(1, 1), output_padding=(1, 1))\n",
              "    (6): ReLU()\n",
              "    (7): ConvTranspose2d(32, 1, kernel_size=(3, 3), stride=(2, 2), padding=(1, 1), output_padding=(1, 1))\n",
              "    (8): Sigmoid()\n",
              "  )\n",
              ")"
            ]
          },
          "metadata": {},
          "execution_count": 17
        }
      ]
    },
    {
      "cell_type": "markdown",
      "source": [
        "**Generate random latent vectors:**\n",
        "\n",
        "To generate new data samples, we first need to create random latent vectors. In this example, we generate num_samples (set to 10) random latent vectors of size latent_dim (set to 20 in the original code) using torch.randn."
      ],
      "metadata": {
        "id": "bUGsIaFmoCCq"
      }
    },
    {
      "cell_type": "code",
      "source": [
        "# Generate random latent vectors\n",
        "num_samples = 10  # Number of samples to generate\n",
        "latent_vectors = torch.randn(num_samples, latent_dim).to(device)"
      ],
      "metadata": {
        "id": "QJjDqx1yofiV"
      },
      "execution_count": 18,
      "outputs": []
    },
    {
      "cell_type": "markdown",
      "source": [
        "**Pass the latent vectors through the decoder to generate new samples:**\n",
        "\n",
        "We use the decoder part of the VAE model to generate new samples from the random latent vectors. We wrap the generation process with torch.no_grad() to disable gradient computation since we're only generating samples and not training the model. The generated samples are then moved to CPU and converted to NumPy arrays for further processing or visualization."
      ],
      "metadata": {
        "id": "BIjs7u1SoPZe"
      }
    },
    {
      "cell_type": "code",
      "source": [
        "# Generate new samples\n",
        "with torch.no_grad():\n",
        "    generated_samples = model.decoder(latent_vectors).cpu().numpy()"
      ],
      "metadata": {
        "id": "dEoYLKxUoONp"
      },
      "execution_count": 19,
      "outputs": []
    },
    {
      "cell_type": "markdown",
      "source": [
        "**Visualize or process the generated samples:**\n",
        "\n",
        "In this example, we use matplotlib to visualize the generated samples as grayscale images. The squeeze() function is used to remove the singleton dimensions from the generated samples, as they have an extra channel dimension due to the way the VAE model was designed."
      ],
      "metadata": {
        "id": "A3VjD27KoofZ"
      }
    },
    {
      "cell_type": "code",
      "source": [
        "import matplotlib.pyplot as plt\n",
        "\n",
        "# Visualize the generated samples\n",
        "for i in range(num_samples):\n",
        "    plt.subplot(2, 5, i + 1)\n",
        "    plt.imshow(generated_samples[i].squeeze(), cmap='gray')\n",
        "    plt.axis('off')\n",
        "plt.show()"
      ],
      "metadata": {
        "colab": {
          "base_uri": "https://localhost:8080/",
          "height": 324
        },
        "id": "fO1AIER7owen",
        "outputId": "c5cc9441-c3a1-4f77-ccfa-eb4a08043c2b"
      },
      "execution_count": 20,
      "outputs": [
        {
          "output_type": "display_data",
          "data": {
            "text/plain": [
              "<Figure size 640x480 with 10 Axes>"
            ],
            "image/png": "[encoded data removed]"
          },
          "metadata": {}
        }
      ]
    },
    {
      "cell_type": "markdown",
      "source": [
        "By following these steps, you can generate new data samples using the trained VAE model. Note that the quality of the generated samples will depend on the performance of the trained model and the complexity of the data distribution."
      ],
      "metadata": {
        "id": "zDC2z7ISpM-3"
      }
    },
    {
      "cell_type": "code",
      "source": [
        "\n",
        "# Visualize training images\n",
        "train_images = next(iter(data_loader))[0][:16]  # Get the first 16 images from the next batch\n",
        "\n",
        "# Plot training images\n",
        "fig, axs = plt.subplots(nrows=2, ncols=8, figsize=(15, 5))\n",
        "for i, ax in enumerate(axs.flatten()):\n",
        "    ax.imshow(train_images[i].squeeze(), cmap='gray')\n",
        "    ax.axis('off')\n",
        "plt.tight_layout()\n",
        "plt.show()\n",
        "\n"
      ],
      "metadata": {
        "colab": {
          "base_uri": "https://localhost:8080/",
          "height": 281
        },
        "id": "5D714Nrsp9FW",
        "outputId": "6c4016b6-756e-4d33-d4c9-db24f2fd25f1"
      },
      "execution_count": 22,
      "outputs": [
        {
          "output_type": "display_data",
          "data": {
            "text/plain": [
              "<Figure size 1500x500 with 16 Axes>"
            ],
            "image/png": "[encoded data removed]"
          },
          "metadata": {}
        }
      ]
    },
    {
      "cell_type": "markdown",
      "source": [
        "We visualize the first 16 training images from the next batch using matplotlib.\n",
        "\n",
        "We generate 16 synthetic images by sampling random latent vectors and passing them through the decoder of the VAE model.\n",
        "\n",
        "We visualize the synthetic images using matplotlib.\n",
        "To check if the synthetic images are present in the original dataset, we first convert the original dataset images and the synthetic images to a common format (view(-1, 1, 28, 28)).\n",
        "\n",
        "For each synthetic image, we calculate the absolute difference between the synthetic image and all the images in the original dataset, summed over all dimensions (diff = (dataset_images - synthetic_image).abs().sum(dim=(1, 2, 3))).\n",
        "\n",
        "If the minimum value of diff is zero, it means that the synthetic image is exactly the same as one of the images in the original dataset, and we print a message indicating that the synthetic image is present in the original dataset.\n",
        "\n",
        "If the minimum value of diff is non-zero, it means that the synthetic image is not present in the original dataset, and we print a message indicating that the synthetic image is not present in the original dataset."
      ],
      "metadata": {
        "id": "twPAxxEdqYQH"
      }
    },
    {
      "cell_type": "code",
      "source": [
        "# Generate synthetic images\n",
        "with torch.no_grad():\n",
        "    latent_vectors = torch.randn(16, latent_dim).to(device)\n",
        "    synthetic_images = model.decoder(latent_vectors).cpu()\n",
        "\n",
        "# Plot synthetic images\n",
        "fig, axs = plt.subplots(nrows=2, ncols=8, figsize=(15, 5))\n",
        "for i, ax in enumerate(axs.flatten()):\n",
        "    ax.imshow(synthetic_images[i].squeeze(), cmap='gray')\n",
        "    ax.axis('off')\n",
        "plt.tight_layout()\n",
        "plt.show()\n",
        "\n",
        "# Check if synthetic images are present in the original dataset\n",
        "dataset_images = mnist.data.float().view(-1, 1, 28, 28) / 255.0\n",
        "synthetic_images = synthetic_images.view(-1, 1, 28, 28)\n",
        "\n",
        "for i, synthetic_image in enumerate(synthetic_images):\n",
        "    diff = (dataset_images - synthetic_image).abs().sum(dim=(1, 2, 3))\n",
        "    if diff.min() == 0:\n",
        "        print(f\"Synthetic image {i} is present in the original dataset.\")\n",
        "    else:\n",
        "        print(f\"Synthetic image {i} is not present in the original dataset.\")"
      ],
      "metadata": {
        "colab": {
          "base_uri": "https://localhost:8080/",
          "height": 558
        },
        "id": "RKBSuBhJw92m",
        "outputId": "af14fec9-d643-4811-896c-9850285c71dd"
      },
      "execution_count": 23,
      "outputs": [
        {
          "output_type": "display_data",
          "data": {
            "text/plain": [
              "<Figure size 1500x500 with 16 Axes>"
            ],
            "image/png": "[encoded data removed]"
          },
          "metadata": {}
        },
        {
          "output_type": "stream",
          "name": "stdout",
          "text": [
            "Synthetic image 0 is not present in the original dataset.\n",
            "Synthetic image 1 is not present in the original dataset.\n",
            "Synthetic image 2 is not present in the original dataset.\n",
            "Synthetic image 3 is not present in the original dataset.\n",
            "Synthetic image 4 is not present in the original dataset.\n",
            "Synthetic image 5 is not present in the original dataset.\n",
            "Synthetic image 6 is not present in the original dataset.\n",
            "Synthetic image 7 is not present in the original dataset.\n",
            "Synthetic image 8 is not present in the original dataset.\n",
            "Synthetic image 9 is not present in the original dataset.\n",
            "Synthetic image 10 is not present in the original dataset.\n",
            "Synthetic image 11 is not present in the original dataset.\n",
            "Synthetic image 12 is not present in the original dataset.\n",
            "Synthetic image 13 is not present in the original dataset.\n",
            "Synthetic image 14 is not present in the original dataset.\n",
            "Synthetic image 15 is not present in the original dataset.\n"
          ]
        }
      ]
    }
  ]
}